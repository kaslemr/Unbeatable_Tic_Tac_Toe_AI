{
 "cells": [
  {
   "cell_type": "code",
   "execution_count": 2,
   "metadata": {
    "collapsed": true
   },
   "outputs": [],
   "source": [
    "# python runner.py bot_one.py bot_two.py\n",
    "# player = you can input\n"
   ]
  },
  {
   "cell_type": "code",
   "execution_count": 3,
   "metadata": {
    "collapsed": true
   },
   "outputs": [],
   "source": []
  },
  {
   "cell_type": "code",
   "execution_count": 5,
   "metadata": {
    "collapsed": false
   },
   "outputs": [
    {
     "ename": "SyntaxError",
     "evalue": "invalid syntax (<ipython-input-5-905a2e711a60>, line 21)",
     "output_type": "error",
     "traceback": [
      "\u001b[0;36m  File \u001b[0;32m\"<ipython-input-5-905a2e711a60>\"\u001b[0;36m, line \u001b[0;32m21\u001b[0m\n\u001b[0;31m    if self.you = (1,1)\u001b[0m\n\u001b[0m                ^\u001b[0m\n\u001b[0;31mSyntaxError\u001b[0m\u001b[0;31m:\u001b[0m invalid syntax\n"
     ]
    }
   ],
   "source": []
  },
  {
   "cell_type": "code",
   "execution_count": null,
   "metadata": {
    "collapsed": false
   },
   "outputs": [],
   "source": [
    "#team = input()\n",
    "#first_row = input()\n",
    "#second_row = input()\n",
    "#third_row = input()\n",
    "\n",
    "print(\"{} {}\".format(1, 1))\n"
   ]
  },
  {
   "cell_type": "code",
   "execution_count": 1,
   "metadata": {
    "collapsed": true
   },
   "outputs": [],
   "source": [
    "import random"
   ]
  },
  {
   "cell_type": "code",
   "execution_count": 68,
   "metadata": {
    "collapsed": false
   },
   "outputs": [
    {
     "data": {
      "text/plain": [
       "2"
      ]
     },
     "execution_count": 68,
     "metadata": {},
     "output_type": "execute_result"
    }
   ],
   "source": [
    "random.randint(0,2)"
   ]
  },
  {
   "cell_type": "code",
   "execution_count": 654,
   "metadata": {
    "collapsed": false
   },
   "outputs": [
    {
     "data": {
      "text/plain": [
       "1"
      ]
     },
     "execution_count": 654,
     "metadata": {},
     "output_type": "execute_result"
    }
   ],
   "source": [
    "#working version\n",
    "\n",
    "import random\n",
    "\n",
    "class Bot:\n",
    "\n",
    "    def board(self):\n",
    "        self.me = \"X\"\n",
    "        if self.me == \"X\":\n",
    "            self.opponent = \"O\"\n",
    "        else:\n",
    "            self.opponent = \"X\"\n",
    "        self.first_row = [\"O\", \"_\", \"O\"]\n",
    "        self.second_row = [\"X\", \"X\", \"_\"]\n",
    "        self.third_row = [\"O\", \"_\", \"O\"]\n",
    "        game_board = self.first_row, self.second_row, self.third_row\n",
    "        \n",
    "        first_column = self.first_row[0], self.second_row[0], self.third_row[0]\n",
    "        second_column = self.first_row[1], self.second_row[1], self.third_row[1]\n",
    "        third_column = self.first_row[1], self.second_row[1], self.third_row[1]\n",
    "        diag_left_to_right = self.first_row[0], self.second_row[1], self.third_row[2]\n",
    "        diag_right_to_left = self.first_row[2], self.second_row[1], self.third_row[0]\n",
    "        corners = self.first_row[0], self.first_row[2], self.third_row[0], self.third_row[2]\n",
    "        middle = self.second_row[1]\n",
    "        \n",
    "        self.game_board = list(game_board)\n",
    "        self.middle = list(middle)\n",
    "        self.corners = list(corners)\n",
    "        self.first_column = list(first_column)\n",
    "        self.second_column = list(second_column)\n",
    "        self.third_column = list(third_column)\n",
    "        self.diag_right_to_left = list(diag_right_to_left)\n",
    "        self.diag_left_to_right = list(diag_right_to_left)\n",
    "    \n",
    "    def create_board(self, first_row, second_row, third_row):\n",
    "        return [self.first_row, self.second_row, self.third_row] \n",
    "        \n",
    "    def make_original_move(self,x,y):\n",
    "        z = self.game_board[x][y]\n",
    "        if z != \"X\" and z != \"O\":\n",
    "            print(\"{} {}\".format(x, y))        \n",
    "        else: \n",
    "            return\n",
    "\n",
    "    def make_move(self):\n",
    "        self.get_win()\n",
    "        self.block_win()\n",
    "        counter = 0\n",
    "        first_move = self.first_move() \n",
    "        while counter < 1:\n",
    "            if first_move != False:\n",
    "                counter = 1\n",
    "            else:\n",
    "                x = random.randint(0,2)\n",
    "                y = random.randint(0,2)\n",
    "                z = self.game_board[x][y]\n",
    "                if z != \"X\" and z != \"O\":\n",
    "                    self.make_original_move(x, y)\n",
    "                    counter = 1\n",
    "                else:\n",
    "                    counter = 0\n",
    "\n",
    "    def first_move(self):\n",
    "        if self.me not in self.first_row and self.me not in self.second_row and self.me not in self.third_row:\n",
    "            if self.opponent not in self.first_row and self.opponent not in self.second_row and self.opponent not in self.third_row:\n",
    "                if random.random() > .5:\n",
    "                    self.make_original_move(1,1)\n",
    "                elif random.random() > .75:\n",
    "                    self.make_original_move(2,2)\n",
    "                elif random.random() > .75:\n",
    "                    self.make_original_move(0,0) \n",
    "                elif random.random() > .75:\n",
    "                    self.make_original_move(2,0) \n",
    "                else:\n",
    "                    self.make_original_move(0,2) \n",
    "            else:\n",
    "                if self.game_board[1][1] == self.opponent:\n",
    "                    if random.random() < .3:\n",
    "                        self.make_original_move(2,2)\n",
    "                    elif random.random() < .3:\n",
    "                        self.make_original_move(0,0) \n",
    "                    elif random.random() < .4:\n",
    "                        self.make_original_move(2,0) \n",
    "                    else:\n",
    "                        self.make_original_move(0,2) \n",
    "                else: \n",
    "                    self.make_original_move(1,1)\n",
    "        else:\n",
    "            return False\n",
    "    \n",
    "    def block_win(self):\n",
    "        if self.first_row.count(self.opponent) == 2:\n",
    "            self.make_original_move(0,0) or self.make_original_move(0,1) or self.make_original_move(0,2)\n",
    "        elif self.second_row.count(self.opponent) == 2:\n",
    "            self.make_original_move(1,0) or self.make_original_move(1,1) or self.make_original_move(1,2)\n",
    "        elif self.third_row.count(self.opponent) == 2:\n",
    "            self.make_original_move(2,0) or self.make_original_move(2,1) or self.make_original_move(2,2)\n",
    "        elif self.first_column.count(self.opponent) == 2:\n",
    "            self.make_original_move(0,0) or self.make_original_move(1,0) or self.make_original_move(2,0)\n",
    "        elif self.second_column.count(self.opponent) == 2:\n",
    "            self.make_original_move(0,1) or self.make_original_move(1,1) or self.make_original_move(2,1)\n",
    "        elif self.third_column.count(self.opponent) == 2:\n",
    "            self.make_original_move(0,2) or self.make_original_move(1,2) or self.make_original_move(2,2)\n",
    "        elif self.diag_right_to_left.count(self.opponent) == 2:\n",
    "            self.make_original_move(0,2) or self.make_original_move(1,1) or self.make_original_move(2,0)\n",
    "        elif self.diag_left_to_right.count(self.opponent) == 2:\n",
    "            self.make_original_move(0,0) or self.make_original_move(1,1) or self.make_original_move(2,2)\n",
    "        else:\n",
    "            return\n",
    "    \n",
    "    def get_win(self):\n",
    "        if self.first_row.count(self.me) == 2:\n",
    "            self.make_original_move(0,0) or self.make_original_move(0,1) or self.make_original_move(0,2)\n",
    "        elif self.second_row.count(self.me) == 2:\n",
    "            self.make_original_move(1,0) or self.make_original_move(1,1) or self.make_original_move(1,2)\n",
    "        elif self.third_row.count(self.me) == 2:\n",
    "              self.make_original_move(2,0) or self.make_original_move(2,1) or self.make_original_move(2,2)\n",
    "        elif self.first_column.count(self.me) == 2:\n",
    "               self.make_original_move(0,0) or self.make_original_move(1,0) or self.make_original_move(2,0)\n",
    "        elif self.second_column.count(self.me) == 2:\n",
    "            self.make_original_move(0,1) or self.make_original_move(1,1) or self.make_original_move(2,1)\n",
    "        elif self.third_column.count(self.me) == 2:\n",
    "            self.make_original_move(0,2) or self.make_original_move(1,2) or self.make_original_move(2,2)\n",
    "        elif self.diag_right_to_left.count(self.me) == 2:\n",
    "             self.make_original_move(0,2) or self.make_original_move(1,1) or self.make_original_move(2,0)\n",
    "        elif self.diag_left_to_right.count(self.me) == 2:\n",
    "             self.make_original_move(0,0) or self.make_original_move(1,1) or self.make_original_move(2,2)\n",
    "        else:\n",
    "            return\n",
    "x = Bot()\n",
    "x.board()\n",
    "x.first_row.index(\"_\")\n"
   ]
  },
  {
   "cell_type": "code",
   "execution_count": 666,
   "metadata": {
    "collapsed": false
   },
   "outputs": [],
   "source": [
    "        #elif self.diag_right_to_left.count(self.opponent) == 2:\n",
    "            #print(\"{} {}\".format(0, self.first_row.index(\"_\")))\n",
    "        #elif self.diag_left_to_right.count(self.opponent) == 2:\n",
    "            #print(\"{} {}\".format(0, self.first_row.index(\"_\")))"
   ]
  },
  {
   "cell_type": "code",
   "execution_count": 678,
   "metadata": {
    "collapsed": false
   },
   "outputs": [
    {
     "name": "stdout",
     "output_type": "stream",
     "text": [
      "2 2\n"
     ]
    }
   ],
   "source": [
    "    def block_win(self):\n",
    "        if self.first_row.count(self.opponent) == 2:\n",
    "            y = self.first_row.index(\"_\")\n",
    "            print(0, y)\n",
    "        else:\n",
    "            return False\n",
    "x = 2\n",
    "print(2,x)"
   ]
  },
  {
   "cell_type": "code",
   "execution_count": 682,
   "metadata": {
    "collapsed": false
   },
   "outputs": [
    {
     "ename": "SyntaxError",
     "evalue": "invalid syntax (<ipython-input-682-0b1e2a4cde2c>, line 6)",
     "output_type": "error",
     "traceback": [
      "\u001b[0;36m  File \u001b[0;32m\"<ipython-input-682-0b1e2a4cde2c>\"\u001b[0;36m, line \u001b[0;32m6\u001b[0m\n\u001b[0;31m    y = self.second_row.index(\"_\")\u001b[0m\n\u001b[0m    ^\u001b[0m\n\u001b[0;31mSyntaxError\u001b[0m\u001b[0;31m:\u001b[0m invalid syntax\n"
     ]
    }
   ],
   "source": [
    "def block_win(self):\n",
    "    if self.first_row.count(self.opponent) == 2:\n",
    "        y = first_row.index(\"_\")\n",
    "        print(\"{} {}\".format(0, y))\n",
    "    if self.second_row.count(self.opponent) == 2\n",
    "        y = self.second_row.index(\"_\")\n",
    "        print(0, y)\n",
    "    if self.third_row.count(self.opponent) == 2:\n",
    "        print(\"{} {}\".format(0, self.third_row.index(\"_\")))\n",
    "    if self.first_column.count(self.opponent) == 2:\n",
    "        print(\"{} {}\".format(self.first_column.index(\"_\"), 1))\n",
    "    if self.second_column.count(self.opponent) == 2:\n",
    "        print(\"{} {}\".format(self.second_column.index(\"_\"), 1))\n",
    "    if self.third_column.count(self.opponent) == 2:\n",
    "        print(\"{} {}\".format(self.third_column.index(\"_\"), 1))\n",
    "    else:\n",
    "        return False"
   ]
  },
  {
   "cell_type": "code",
   "execution_count": 512,
   "metadata": {
    "collapsed": false
   },
   "outputs": [
    {
     "ename": "IndentationError",
     "evalue": "unexpected indent (<ipython-input-512-7b4e1b45b7e5>, line 6)",
     "output_type": "error",
     "traceback": [
      "\u001b[0;36m  File \u001b[0;32m\"<ipython-input-512-7b4e1b45b7e5>\"\u001b[0;36m, line \u001b[0;32m6\u001b[0m\n\u001b[0;31m    counter = 1\u001b[0m\n\u001b[0m    ^\u001b[0m\n\u001b[0;31mIndentationError\u001b[0m\u001b[0;31m:\u001b[0m unexpected indent\n"
     ]
    }
   ],
   "source": [
    "def make_move(self):\n",
    "        counter = 0\n",
    "        x = int\n",
    "        y = int\n",
    "        z = self.game_board[x][y]\n",
    "                counter = 1\n",
    "                else:\n",
    "                    counter = 0\n",
    "        while counter < 1:\n",
    "            \n",
    "                    self.make_original_move(1,1)\n",
    "                elif random.random() > .75:\n",
    "                    self.make_original_move(2,2)\n",
    "                elif random.random() > .75:\n",
    "                    self.make_original_move(0,0) \n",
    "                elif random.random() > .75:\n",
    "                    self.make_original_move(2,0) \n",
    "                else:\n",
    "                    self.make_original_move(0,2) \n",
    "                break\n",
    "        if z != \"X\" and z != \"O\":\n",
    "            print((\"{} {}\".format(x, y)))\n",
    "        else:\n",
    "            counter = 0\n",
    "\n",
    "def empty_board(self):\n",
    "    if self.opponent not in self.first_row and self.opponent not in self.second_row and self.opponent not in self.third_row:\n",
    "        return True\n",
    "    else:\n",
    "        return False\n",
    "\n"
   ]
  },
  {
   "cell_type": "code",
   "execution_count": 663,
   "metadata": {
    "collapsed": false
   },
   "outputs": [
    {
     "name": "stdout",
     "output_type": "stream",
     "text": [
      "yay\n"
     ]
    }
   ],
   "source": [
    "x = 12\n",
    "y = 2\n",
    "if x > 11:\n",
    "    print(\"yay\")\n",
    "else:\n",
    "    print(\"no\")\n"
   ]
  },
  {
   "cell_type": "code",
   "execution_count": null,
   "metadata": {
    "collapsed": true
   },
   "outputs": [],
   "source": []
  },
  {
   "cell_type": "code",
   "execution_count": null,
   "metadata": {
    "collapsed": true
   },
   "outputs": [],
   "source": []
  },
  {
   "cell_type": "code",
   "execution_count": null,
   "metadata": {
    "collapsed": true
   },
   "outputs": [],
   "source": [
    "x = Bot()\n",
    "x.board()\n",
    "x.game_board[2][2]\n",
    "\n",
    "for row in x.game_board:\n",
    "    for spot in row:\n",
    "        if spot == \"_\":\n",
    "            print(\"_\")\n",
    "        else:\n",
    "            if spot == x.opponent:\n",
    "                print(x.opponent)\n",
    "            else: \n",
    "                print(x.me)                "
   ]
  },
  {
   "cell_type": "code",
   "execution_count": 623,
   "metadata": {
    "collapsed": true
   },
   "outputs": [],
   "source": [
    "class Bot:\n",
    "\n",
    "    def board(self):\n",
    "        self.me = \"X\"\n",
    "        if self.me == \"X\":\n",
    "            self.opponent = \"O\"\n",
    "        else:\n",
    "            self.opponent = \"X\"\n",
    "        self.first_row = [\"O\", \"_\", \"O\"]\n",
    "        self.second_row = [\"X\", \"X\", \"_\"]\n",
    "        self.third_row = [\"O\", \"_\", \"O\"]\n",
    "        game_board = self.first_row, self.second_row, self.third_row\n",
    "        self.game_board = list(game_board)\n",
    "        \n",
    "        first_column = self.first_row[0], self.second_row[0], self.third_row[0]\n",
    "        second_column = self.first_row[1], self.second_row[1], self.third_row[1]\n",
    "        third_column = self.first_row[1], self.second_row[1], self.third_row[1]\n",
    "        diag_left_to_right = self.first_row[0], self.second_row[1], self.third_row[2]\n",
    "        diag_right_to_left = self.first_row[2], self.second_row[1], self.third_row[0]\n",
    "        corners = self.first_row[0], self.first_row[2], self.third_row[0], self.third_row[2]\n",
    "        middle = self.second_row[1]\n",
    "        \n",
    "        self.middle = list(middle)\n",
    "        self.corners = list(corners)\n",
    "        self.first_column = list(first_column)\n",
    "        self.second_column = list(second_column)\n",
    "        self.third_column = list(third_column)\n",
    "        self.diag_right_to_left = list(diag_right_to_left)\n",
    "        self.diag_left_to_right = list(diag_right_to_left)\n",
    "        "
   ]
  },
  {
   "cell_type": "code",
   "execution_count": 647,
   "metadata": {
    "collapsed": false
   },
   "outputs": [
    {
     "name": "stdout",
     "output_type": "stream",
     "text": [
      "0 2\n"
     ]
    },
    {
     "data": {
      "text/plain": [
       "['_', 'X', '_']"
      ]
     },
     "execution_count": 647,
     "metadata": {},
     "output_type": "execute_result"
    }
   ],
   "source": [
    "import random\n",
    "\n",
    "class Bot:\n",
    "\n",
    "    def board(self):\n",
    "        self.me = \"X\"\n",
    "        if self.me == \"X\":\n",
    "            self.opponent = \"O\"\n",
    "        else:\n",
    "            self.opponent = \"X\"\n",
    "        self.first_row = [\"_\", \"_\", \"O\"]\n",
    "        self.second_row = [\"_\", \"X\", \"_\"]\n",
    "        self.third_row = [\"_\", \"_\", \"O\"]\n",
    "        game_board = self.first_row, self.second_row, self.third_row\n",
    "        first_column = self.first_row[0], self.second_row[0], self.third_row[0]\n",
    "        second_column = self.first_row[1], self.second_row[1], self.third_row[1]\n",
    "        third_column = self.first_row[1], self.second_row[1], self.third_row[1]\n",
    "        diag_left_to_right = self.first_row[0], self.second_row[1], self.third_row[2]\n",
    "        diag_right_to_left = self.first_row[2], self.second_row[1], self.third_row[0]\n",
    "        corners = self.first_row[0], self.first_row[2], self.third_row[0], self.third_row[2]\n",
    "        middle = self.second_row[1]\n",
    "        middle_spaces = self.first_row[1], self.second_row[0], self.second_row[2], self.third_row[1]\n",
    "        \n",
    "        self.middle = list(middle)\n",
    "        self.middle_spaces = list(middle_spaces)\n",
    "        self.corners = list(corners)\n",
    "        self.first_column = list(first_column)\n",
    "        self.second_column = list(second_column)\n",
    "        self.third_column = list(third_column)\n",
    "        self.diag_right_to_left = list(diag_right_to_left)\n",
    "        self.diag_left_to_right = list(diag_right_to_left)\n",
    "        self.game_board = list(game_board)\n",
    "    \n",
    "    def move(self, x, y):\n",
    "        return print(\"{} {}\".format(x, y))\n",
    "    \n",
    "    def brains(self):\n",
    "        #turn 1\n",
    "        for rows in self.game_board\n",
    "            if \n",
    "            return self.move(0,2)\n",
    "         \n",
    "        #if self.opponent in x.middle_spaces:\n",
    "            \n",
    "    \n",
    "    #def read_spots(self)\n",
    "     #   for x in self.game_board=\n",
    "    \n",
    "    #def winning_situations(self):\n",
    "       # for rows in self.matrix: \n",
    "       # if self.first_row.count(self.opponent) == 2 and self.first_row.count(\"_\") == 1\n",
    "       # for \n",
    "    \n",
    "x = Bot()\n",
    "x.board()\n",
    "x.brains()\n",
    "x.game_board[1]"
   ]
  },
  {
   "cell_type": "code",
   "execution_count": 790,
   "metadata": {
    "collapsed": false
   },
   "outputs": [
    {
     "name": "stdout",
     "output_type": "stream",
     "text": [
      "2 2\n"
     ]
    }
   ],
   "source": [
    "import random\n",
    "\n",
    "class Bot:\n",
    "\n",
    "    def board(self):\n",
    "        self.me = \"X\"\n",
    "        if self.me == \"X\":\n",
    "            self.opponent = \"O\"\n",
    "        else:\n",
    "            self.opponent = \"X\"\n",
    "        self.first_row = [\"X\", \"_\", \"O\"]\n",
    "        self.second_row = [\"_\", \"_\", \"O\"]\n",
    "        self.third_row = [\"_\", \"_\", \"_\"]\n",
    "        game_board = self.first_row, self.second_row, self.third_row\n",
    "        first_column = self.first_row[0], self.second_row[0], self.third_row[0]\n",
    "        second_column = self.first_row[1], self.second_row[1], self.third_row[1]\n",
    "        third_column = self.first_row[2], self.second_row[2], self.third_row[2]\n",
    "        diag_left_to_right = self.first_row[0], self.second_row[1], self.third_row[2]\n",
    "        diag_right_to_left = self.first_row[2], self.second_row[1], self.third_row[0]\n",
    "        corners = self.first_row[0], self.first_row[2], self.third_row[0], self.third_row[2]\n",
    "        middle = self.second_row[1]\n",
    "\n",
    "        self.game_board = list(game_board)\n",
    "        self.middle = list(middle)\n",
    "        self.corners = list(corners)\n",
    "        self.first_column = list(first_column)\n",
    "        self.second_column = list(second_column)\n",
    "        self.third_column = list(third_column)\n",
    "        self.diag_right_to_left = list(diag_right_to_left)\n",
    "        self.diag_left_to_right = list(diag_right_to_left)\n",
    "\n",
    "    def create_board(self, first_row, second_row, third_row):\n",
    "        return [self.first_row, self.second_row, self.third_row]\n",
    "\n",
    "    def make_original_move(self,x,y):\n",
    "        z = self.game_board[x][y]\n",
    "        if z != \"X\" and z != \"O\":\n",
    "            print(\"{} {}\".format(x, y))\n",
    "        else:\n",
    "            return\n",
    "\n",
    "    def make_move(self):\n",
    "        counter = 0\n",
    "        while counter < 1:\n",
    "            first_move1 = self.first_move()\n",
    "            if first_move1 != False:\n",
    "                counter = 1\n",
    "            get_win1 = self.get_win()\n",
    "            if get_win1 != False:\n",
    "                counter = 1\n",
    "            else:\n",
    "                block_win1 = self.block_win()\n",
    "                if block_win1 != False:\n",
    "                    counter = 1\n",
    "                else:\n",
    "                    x = random.randint(0,2)\n",
    "                    y = random.randint(0,2)\n",
    "                    z = self.game_board[x][y]\n",
    "                    if z != \"X\" and z != \"O\":\n",
    "                        self.make_original_move(x, y)\n",
    "                        counter = 1\n",
    "                    else:\n",
    "                        counter = 0\n",
    "\n",
    "    def first_move(self):\n",
    "        if self.me not in self.first_row and self.me not in self.second_row and self.me not in self.third_row:\n",
    "            if self.opponent not in self.first_row and self.opponent not in self.second_row and self.opponent not in self.third_row:\n",
    "                print(0,0)\n",
    "            else:\n",
    "                if self.second_row[1] == self.opponent:\n",
    "                    if random.random() < .3:\n",
    "                        print(2, 2)\n",
    "                    elif random.random() < .3:\n",
    "                        print(0, 0)\n",
    "                    elif random.random() < .4:\n",
    "                        print(2,0)\n",
    "                    else:\n",
    "                        print(0, 2)\n",
    "                else:\n",
    "                    print(1,1)\n",
    "        else:\n",
    "            return False\n",
    "\n",
    "    def block_win(self):\n",
    "        if self.first_row.count(self.opponent) == 2 and self.first_row.count(\"_\") == 1:\n",
    "            y = self.first_row.index(\"_\")\n",
    "            print(0, y)\n",
    "        elif self.second_row.count(self.opponent) == 2 and self.second_row.count('_') == 1:\n",
    "            y = self.second_row.index(\"_\")\n",
    "            print(1, y)\n",
    "        elif self.third_row.count(self.opponent) == 2 and self.third_row.count(\"_\") == 1:\n",
    "            y = self.third_row.index(\"_\")\n",
    "            print(2, y)\n",
    "        elif self.first_column.count(self.opponent) == 2 and self.first_column.count(\"_\") == 1:\n",
    "            x = self.first_column.index(\"_\")\n",
    "            print(x, 0)\n",
    "        elif self.second_column.count(self.opponent) == 2 and self.second_column.count(\"_\") == 1:\n",
    "            x = self.second_column.index(\"_\")\n",
    "            print(x, 1)\n",
    "        elif self.third_column.count(self.opponent) == 2 and self.third_column.count(\"_\") == 1:\n",
    "            x = self.third_column.index(\"_\")\n",
    "            print(x, 2)\n",
    "        else:\n",
    "            return False\n",
    "\n",
    "    def get_win(self):\n",
    "        if self.first_row.count(self.me) == 2 and self.first_row.count(\"_\") == 1:\n",
    "            y = self.first_row.index(\"_\")\n",
    "            print(0, y)\n",
    "        elif self.second_row.count(self.me) == 2 and self.second_row.count(\"_\") == 1:\n",
    "            y = self.second_row.index(\"_\")\n",
    "            print(1, y)\n",
    "        elif self.third_row.count(self.me) == 2 and self.third_row.count(\"_\") == 1:\n",
    "            y = self.third_row.index(\"_\")\n",
    "            print(2, y)\n",
    "        elif self.first_column.count(self.me) == 2 and self.first_column.count(\"_\") == 1:\n",
    "            x = self.first_column.index(\"_\")\n",
    "            print(x, 0)\n",
    "        elif self.second_column.count(self.me) == 2 and self.second_column.count(\"_\") == 1:\n",
    "            x = self.second_column.index(\"_\")\n",
    "            print(x, 1)\n",
    "        elif self.third_column.count(self.me) == 2 and self.third_column.count(\"_\") == 1:\n",
    "            x = self.third_column.index(\"_\")\n",
    "            print(x, 2)\n",
    "        else:\n",
    "            return False\n",
    "\n",
    "x = Bot()\n",
    "x.board()\n",
    "x.make_move()"
   ]
  },
  {
   "cell_type": "code",
   "execution_count": 767,
   "metadata": {
    "collapsed": false
   },
   "outputs": [
    {
     "data": {
      "text/plain": [
       "3"
      ]
     },
     "execution_count": 767,
     "metadata": {},
     "output_type": "execute_result"
    }
   ],
   "source": [
    "3"
   ]
  },
  {
   "cell_type": "code",
   "execution_count": 692,
   "metadata": {
    "collapsed": true
   },
   "outputs": [],
   "source": [
    "def make_move(self):\n",
    "    counter = 0\n",
    "    first_move1 = self.first_move()\n",
    "    get_win1 = self.get_win()\n",
    "    block_win1 = self.block_win()\n",
    "    while counter < 1:\n",
    "        if first_move1 != False:\n",
    "            counter = 1\n",
    "        elif get_win1 != False:\n",
    "            counter = 1\n",
    "            break\n",
    "        elif block_win1 != False:\n",
    "            counter = 1\n",
    "        else:\n",
    "            x = random.randint(0,2)\n",
    "            y = random.randint(0,2)\n",
    "            z = self.game_board[x][y]\n",
    "            if z != \"X\" and z != \"O\":\n",
    "                self.make_original_move(x, y)\n",
    "                counter = 1\n",
    "            else:\n",
    "                counter = 0"
   ]
  },
  {
   "cell_type": "code",
   "execution_count": 734,
   "metadata": {
    "collapsed": false
   },
   "outputs": [
    {
     "name": "stdout",
     "output_type": "stream",
     "text": [
      "2 0\n"
     ]
    }
   ],
   "source": [
    "def get_win(self):\n",
    "        if self.first_row.count(self.me) == 2 and self.first_row.count(\"_\") == 1:\n",
    "            y = self.first_row.index(\"_\")\n",
    "            print(0, y)\n",
    "        elif self.second_row.count(self.me) == 2 and self.second_row.count(\"_\") == 1:\n",
    "            y = self.second_row.index(\"_\")\n",
    "            print(1, y)\n",
    "        elif self.third_row.count(self.me) == 2 and self.third_row.count(\"_\") == 1:\n",
    "            y = self.third_row.index(\"_\")\n",
    "            print(2, y)\n",
    "        elif self.first_column.count(self.me) == 2 and self.first_column.count(\"_\") == 1:\n",
    "            x = self.first_column.index(\"_\")\n",
    "            print(x, 0)\n",
    "        elif self.second_column.count(self.me) == 2 and self.second_column.count(\"_\") == 1:\n",
    "            x = self.second_column.index(\"_\")\n",
    "            print(x, 1)\n",
    "        elif self.third_column.count(self.me) == 2 and self.third_column.count(\"_\") == 1:\n",
    "            x = self.third_column.index(\"_\")\n",
    "            print(x, 2)\n",
    "        else:\n",
    "            return False\n",
    "x.get_win()"
   ]
  },
  {
   "cell_type": "code",
   "execution_count": null,
   "metadata": {
    "collapsed": false
   },
   "outputs": [],
   "source": [
    "\n"
   ]
  },
  {
   "cell_type": "code",
   "execution_count": 824,
   "metadata": {
    "collapsed": false
   },
   "outputs": [
    {
     "name": "stdout",
     "output_type": "stream",
     "text": [
      "2 0\n"
     ]
    },
    {
     "data": {
      "text/plain": [
       "('X', 'O', '_', '_')"
      ]
     },
     "execution_count": 824,
     "metadata": {},
     "output_type": "execute_result"
    }
   ],
   "source": [
    "import random\n",
    "\n",
    "class Bot:\n",
    "\n",
    "    def board(self):\n",
    "        self.me = \"X\"\n",
    "        if self.me == \"X\":\n",
    "            self.opponent = \"O\"\n",
    "        else:\n",
    "            self.opponent = \"X\"\n",
    "        self.first_row = [\"X\", \"_\", \"O\"]\n",
    "        self.second_row = [\"_\", \"_\", \"O\"]\n",
    "        self.third_row = [\"_\", \"_\", \"_\"]\n",
    "        self.game_board = self.create_board(self.first_row, self.second_row, self.third_row)\n",
    "        self.corners = self.first_row[0], self.first_row[2], self.third_row[0], self.third_row[2]\n",
    "        return self.game_board\n",
    "\n",
    "    def create_board(self, first_row, second_row, third_row):\n",
    "        return [self.first_row, self.second_row, self.third_row]\n",
    "\n",
    "    def make_original_move(self,x,y):\n",
    "        print(\"{} {}\".format(x, y))\n",
    "\n",
    "    def make_move(self):\n",
    "        counter = 0\n",
    "        first_move1 = self.first_move\n",
    "        while counter < 1:\n",
    "            x = random.randint(0,2)\n",
    "            y = random.randint(0,2)\n",
    "            z = self.game_board[x][y]\n",
    "            if z != \"X\" and z != \"O\":\n",
    "                print((\"{} {}\".format(x, y)))\n",
    "                counter = 1\n",
    "            else:\n",
    "                counter = 0\n",
    "\n",
    "    def first_move(self):\n",
    "        if self.me not in self.first_row and self.me not in self.second_row and self.me not in self.third_row:\n",
    "            if self.opponent in self.first_row or self.opponent in self.second_row or self.opponent in self.third_row:\n",
    "                if self.opponent in self.corners:\n",
    "                    print(1,1)\n",
    "                else:\n",
    "                    print(0,0)\n",
    "            else:\n",
    "                print(0,0)\n",
    "        else:\n",
    "            return False\n",
    "\n",
    "x = Bot()\n",
    "x.board()\n",
    "x.make_move()\n",
    "x.corners"
   ]
  },
  {
   "cell_type": "code",
   "execution_count": 825,
   "metadata": {
    "collapsed": false
   },
   "outputs": [
    {
     "ename": "IndentationError",
     "evalue": "unexpected indent (<ipython-input-825-fd14825bf34e>, line 18)",
     "output_type": "error",
     "traceback": [
      "\u001b[0;36m  File \u001b[0;32m\"<ipython-input-825-fd14825bf34e>\"\u001b[0;36m, line \u001b[0;32m18\u001b[0m\n\u001b[0;31m    def create_board(self, first_row, second_row, third_row):\u001b[0m\n\u001b[0m    ^\u001b[0m\n\u001b[0;31mIndentationError\u001b[0m\u001b[0;31m:\u001b[0m unexpected indent\n"
     ]
    }
   ],
   "source": [
    "        self.first_column = self.create_column(0, 0, 0)\n",
    "        self.second_column = self.create_column(1, 1, 1)\n",
    "        self.second_column = self.create_column(2, 2, 2)\n",
    "      \n",
    "        diag_left_to_right = self.first_row[0], self.second_row[1], self.third_row[2]\n",
    "        diag_right_to_left = self.first_row[2], self.second_row[1], self.third_row[0]\n",
    "        corners = self.first_row[0], self.first_row[2], self.third_row[0], self.third_row[2]\n",
    "        middle = self.second_row[1]\n",
    "        self.game_board = self.create_board(self.first_row, self.second_row, self.third_row)\n",
    "\n",
    "        self.middle = list(middle)\n",
    "        self.corners = list(corners)\n",
    "        self.first_column = list(first_column)\n",
    "        self.second_column = list(second_column)\n",
    "        self.third_column = list(third_column)\n",
    "        self.diag_right_to_left = list(diag_right_to_left)\n",
    "        self.diag_left_to_right = list(diag_right_to_left)\n",
    "\n",
    "    def create_board(self, first_row, second_row, third_row):\n",
    "        return [self.first_row, self.second_row, self.third_row]\n",
    "    \n",
    "    def create_column(self, x, y, z):\n",
    "        return [self.first_row[x], self.second_row[y], self.third_row[z]]\n"
   ]
  },
  {
   "cell_type": "code",
   "execution_count": null,
   "metadata": {
    "collapsed": true
   },
   "outputs": [],
   "source": []
  },
  {
   "cell_type": "code",
   "execution_count": null,
   "metadata": {
    "collapsed": true
   },
   "outputs": [],
   "source": []
  },
  {
   "cell_type": "code",
   "execution_count": null,
   "metadata": {
    "collapsed": true
   },
   "outputs": [],
   "source": []
  },
  {
   "cell_type": "code",
   "execution_count": null,
   "metadata": {
    "collapsed": true
   },
   "outputs": [],
   "source": []
  }
 ],
 "metadata": {
  "kernelspec": {
   "display_name": "Python 3",
   "language": "python",
   "name": "python3"
  },
  "language_info": {
   "codemirror_mode": {
    "name": "ipython",
    "version": 3
   },
   "file_extension": ".py",
   "mimetype": "text/x-python",
   "name": "python",
   "nbconvert_exporter": "python",
   "pygments_lexer": "ipython3",
   "version": "3.5.0"
  }
 },
 "nbformat": 4,
 "nbformat_minor": 0
}
