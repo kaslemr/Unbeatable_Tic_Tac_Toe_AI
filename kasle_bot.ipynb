{
 "cells": [
  {
   "cell_type": "code",
   "execution_count": 2,
   "metadata": {
    "collapsed": true
   },
   "outputs": [],
   "source": [
    "# python runner.py bot_one.py bot_two.py\n",
    "# player = you can input\n"
   ]
  },
  {
   "cell_type": "code",
   "execution_count": 3,
   "metadata": {
    "collapsed": true
   },
   "outputs": [],
   "source": [
    "def get_inputs(self):\n",
    "    self.me = input()\n",
    "    if self.me == \"X\":\n",
    "        self.you = \"O\"\n",
    "    else:\n",
    "        self.you = \"X\"\n",
    "    row_one = input()\n",
    "    row_two = input()\n",
    "    row_three = input()\n",
    "    self.board = self.create_board(row_one, row_two, row_three)\n",
    "\n",
    "def create_board(self, row_one, row_two, row_three):\n",
    "    return [row_one, row_two, row_three]\n"
   ]
  },
  {
   "cell_type": "code",
   "execution_count": 5,
   "metadata": {
    "collapsed": false
   },
   "outputs": [
    {
     "ename": "SyntaxError",
     "evalue": "invalid syntax (<ipython-input-5-905a2e711a60>, line 21)",
     "output_type": "error",
     "traceback": [
      "\u001b[0;36m  File \u001b[0;32m\"<ipython-input-5-905a2e711a60>\"\u001b[0;36m, line \u001b[0;32m21\u001b[0m\n\u001b[0;31m    if self.you = (1,1)\u001b[0m\n\u001b[0m                ^\u001b[0m\n\u001b[0;31mSyntaxError\u001b[0m\u001b[0;31m:\u001b[0m invalid syntax\n"
     ]
    }
   ],
   "source": [
    "\n",
    "def get_inputs(self):\n",
    "    self.me = input()\n",
    "    if self.me == \"X\":\n",
    "        self.you = \"O\"\n",
    "    else:\n",
    "        self.you = \"X\"\n",
    "    row_one = input()\n",
    "    row_two = input()\n",
    "    row_three = input()\n",
    "    self.board = self.create_board(row_one, row_two, row_three)\n",
    "\n",
    "def create_board(self, row_one, row_two, row_three):\n",
    "    return [row_one, row_two, row_three]\n",
    "\n",
    "def brain(self):\n",
    "    if self.you = (1,1)\n",
    "        print(\"{} {}\".format(2, 2))"
   ]
  },
  {
   "cell_type": "code",
   "execution_count": null,
   "metadata": {
    "collapsed": false
   },
   "outputs": [],
   "source": [
    "#team = input()\n",
    "#first_row = input()\n",
    "#second_row = input()\n",
    "#third_row = input()\n",
    "\n",
    "print(\"{} {}\".format(1, 1))\n"
   ]
  },
  {
   "cell_type": "code",
   "execution_count": 1,
   "metadata": {
    "collapsed": true
   },
   "outputs": [],
   "source": [
    "import random"
   ]
  },
  {
   "cell_type": "code",
   "execution_count": 68,
   "metadata": {
    "collapsed": false
   },
   "outputs": [
    {
     "data": {
      "text/plain": [
       "2"
      ]
     },
     "execution_count": 68,
     "metadata": {},
     "output_type": "execute_result"
    }
   ],
   "source": [
    "random.randint(0,2)"
   ]
  },
  {
   "cell_type": "code",
   "execution_count": 69,
   "metadata": {
    "collapsed": false
   },
   "outputs": [
    {
     "ename": "SyntaxError",
     "evalue": "unexpected EOF while parsing (<ipython-input-69-57607c9454ca>, line 3)",
     "output_type": "error",
     "traceback": [
      "\u001b[0;36m  File \u001b[0;32m\"<ipython-input-69-57607c9454ca>\"\u001b[0;36m, line \u001b[0;32m3\u001b[0m\n\u001b[0;31m    \u001b[0m\n\u001b[0m    ^\u001b[0m\n\u001b[0;31mSyntaxError\u001b[0m\u001b[0;31m:\u001b[0m unexpected EOF while parsing\n"
     ]
    }
   ],
   "source": [
    "def point(self,x,y):\n",
    "    \n",
    "      "
   ]
  },
  {
   "cell_type": "code",
   "execution_count": 189,
   "metadata": {
    "collapsed": false
   },
   "outputs": [],
   "source": [
    "team = \"X\"\n",
    "first_row = [\"\", \"_\", \"O\"]\n",
    "second_row = [\"O\", \"_\", \"_\"]\n",
    "third_row = [\"_\", \"_\", \"O\"]\n",
    "\n",
    "board = [first_row, second_row, third_row]\n",
    "\n",
    "def taken_positions():\n",
    "    for x in board:\n",
    "        for a in range(0,3):\n",
    "            if a == \"X\" or a == \"O\":\n",
    "                return board.index(x), x.index(a)\n",
    "                continue\n",
    "\n",
    "\n",
    "        \n",
    "\n",
    "        "
   ]
  },
  {
   "cell_type": "code",
   "execution_count": 168,
   "metadata": {
    "collapsed": false
   },
   "outputs": [
    {
     "name": "stdout",
     "output_type": "stream",
     "text": [
      "[['', '_', 'O'], ['O', '_', '_'], ['_', '_', '_']]\n"
     ]
    }
   ],
   "source": [
    "print(board)"
   ]
  },
  {
   "cell_type": "code",
   "execution_count": null,
   "metadata": {
    "collapsed": false
   },
   "outputs": [],
   "source": [
    "print(board[0][2])"
   ]
  },
  {
   "cell_type": "code",
   "execution_count": 223,
   "metadata": {
    "collapsed": false
   },
   "outputs": [
    {
     "name": "stdout",
     "output_type": "stream",
     "text": [
      "no\n",
      "1 1\n"
     ]
    }
   ],
   "source": [
    "import random\n",
    "\n",
    "team = \"X\"\n",
    "first_row = [\"_\", \"X\", \"_\"]\n",
    "second_row = [\"O\", \"_\", \"X\"]\n",
    "third_row = [\"_\", \"X\", \"_\"]\n",
    "\n",
    "board = [first_row, second_row, third_row]\n",
    "\n",
    "def random_row():\n",
    "    return random.randint(0,2)\n",
    "\n",
    "def random_column():\n",
    "    return random.randint(0,2)\n",
    "     \n",
    "count = 0\n",
    "while count < 1:\n",
    "    x = random.randint(0,2)\n",
    "    y = random.randint(0,2)\n",
    "    if board[x][y] == \"_\":\n",
    "        print((\"{} {}\".format(x, y)))\n",
    "        count = 1\n",
    "    else:\n",
    "        print(\"no\")\n",
    "        count = 0\n",
    "\n"
   ]
  },
  {
   "cell_type": "code",
   "execution_count": 232,
   "metadata": {
    "collapsed": false
   },
   "outputs": [],
   "source": [
    "first_row = [\"_\", \"_\", \"_\"]\n",
    "second_row = [\"_\", \"_\", \"_\"]\n",
    "third_row = [\"_\", \"_\", \"_\"]\n",
    "\n",
    "board = [first_row, second_row, third_row]"
   ]
  },
  {
   "cell_type": "code",
   "execution_count": 236,
   "metadata": {
    "collapsed": false
   },
   "outputs": [
    {
     "ename": "SyntaxError",
     "evalue": "'return' outside function (<ipython-input-236-13b55adf1857>, line 2)",
     "output_type": "error",
     "traceback": [
      "\u001b[0;36m  File \u001b[0;32m\"<ipython-input-236-13b55adf1857>\"\u001b[0;36m, line \u001b[0;32m2\u001b[0m\n\u001b[0;31m    return\u001b[0m\n\u001b[0m    ^\u001b[0m\n\u001b[0;31mSyntaxError\u001b[0m\u001b[0;31m:\u001b[0m 'return' outside function\n"
     ]
    }
   ],
   "source": [
    "if \"_\" not in first_row or \"_\" not in second_row or \"_\" not in third_row:\n",
    "    \n",
    "else:\n",
    "    print(\"no\")\n"
   ]
  },
  {
   "cell_type": "code",
   "execution_count": null,
   "metadata": {
    "collapsed": true
   },
   "outputs": [],
   "source": [
    "if \"X\" or  not in first_row or \"_\" not in second_row or \"_\" not in third_row:\n",
    "\n",
    "for x in board\n",
    "            "
   ]
  },
  {
   "cell_type": "code",
   "execution_count": null,
   "metadata": {
    "collapsed": true
   },
   "outputs": [],
   "source": [
    "while counter < 1:\n",
    "    x = random.randint(0,2)\n",
    "    y = random.randint(0,2)\n",
    "    if board[x][y] == \"_\":\n",
    "        print((\"{} {}\".format(x, y)))\n",
    "        counter += 1\n",
    "    else:\n",
    "        counter = 0\n",
    "\n",
    "\n"
   ]
  },
  {
   "cell_type": "code",
   "execution_count": 822,
   "metadata": {
    "collapsed": false
   },
   "outputs": [
    {
     "ename": "TypeError",
     "evalue": "'list' object is not callable",
     "output_type": "error",
     "traceback": [
      "\u001b[0;31m---------------------------------------------------------------------------\u001b[0m",
      "\u001b[0;31mTypeError\u001b[0m                                 Traceback (most recent call last)",
      "\u001b[0;32m<ipython-input-822-8a3a8a8be931>\u001b[0m in \u001b[0;36m<module>\u001b[0;34m()\u001b[0m\n\u001b[1;32m     31\u001b[0m \u001b[0;34m\u001b[0m\u001b[0m\n\u001b[1;32m     32\u001b[0m \u001b[0mx\u001b[0m \u001b[0;34m=\u001b[0m \u001b[0mBot\u001b[0m\u001b[0;34m(\u001b[0m\u001b[0;34m)\u001b[0m\u001b[0;34m\u001b[0m\u001b[0m\n\u001b[0;32m---> 33\u001b[0;31m \u001b[0mx\u001b[0m\u001b[0;34m.\u001b[0m\u001b[0mmake_move\u001b[0m\u001b[0;34m(\u001b[0m\u001b[0;34m)\u001b[0m\u001b[0;34m\u001b[0m\u001b[0m\n\u001b[0m",
      "\u001b[0;32m<ipython-input-822-8a3a8a8be931>\u001b[0m in \u001b[0;36mmake_move\u001b[0;34m(self)\u001b[0m\n\u001b[1;32m     23\u001b[0m             \u001b[0mx\u001b[0m \u001b[0;34m=\u001b[0m \u001b[0mrandom\u001b[0m\u001b[0;34m.\u001b[0m\u001b[0mrandint\u001b[0m\u001b[0;34m(\u001b[0m\u001b[0;36m0\u001b[0m\u001b[0;34m,\u001b[0m\u001b[0;36m2\u001b[0m\u001b[0;34m)\u001b[0m\u001b[0;34m\u001b[0m\u001b[0m\n\u001b[1;32m     24\u001b[0m             \u001b[0my\u001b[0m \u001b[0;34m=\u001b[0m \u001b[0mrandom\u001b[0m\u001b[0;34m.\u001b[0m\u001b[0mrandint\u001b[0m\u001b[0;34m(\u001b[0m\u001b[0;36m0\u001b[0m\u001b[0;34m,\u001b[0m\u001b[0;36m2\u001b[0m\u001b[0;34m)\u001b[0m\u001b[0;34m\u001b[0m\u001b[0m\n\u001b[0;32m---> 25\u001b[0;31m             \u001b[0mz\u001b[0m \u001b[0;34m=\u001b[0m \u001b[0mself\u001b[0m\u001b[0;34m.\u001b[0m\u001b[0mboard\u001b[0m\u001b[0;34m(\u001b[0m\u001b[0mx\u001b[0m\u001b[0;34m,\u001b[0m\u001b[0my\u001b[0m\u001b[0;34m)\u001b[0m\u001b[0;34m\u001b[0m\u001b[0m\n\u001b[0m\u001b[1;32m     26\u001b[0m             \u001b[0;32mif\u001b[0m \u001b[0mz\u001b[0m \u001b[0;34m!=\u001b[0m \u001b[0;34m\"X\"\u001b[0m \u001b[0;32mand\u001b[0m \u001b[0mz\u001b[0m \u001b[0;34m!=\u001b[0m \u001b[0;34m\"O\"\u001b[0m\u001b[0;34m:\u001b[0m\u001b[0;34m\u001b[0m\u001b[0m\n\u001b[1;32m     27\u001b[0m                 \u001b[0mprint\u001b[0m\u001b[0;34m(\u001b[0m\u001b[0;34m(\u001b[0m\u001b[0;34m\"{} {}\"\u001b[0m\u001b[0;34m.\u001b[0m\u001b[0mformat\u001b[0m\u001b[0;34m(\u001b[0m\u001b[0mx\u001b[0m\u001b[0;34m,\u001b[0m \u001b[0my\u001b[0m\u001b[0;34m)\u001b[0m\u001b[0;34m)\u001b[0m\u001b[0;34m)\u001b[0m\u001b[0;34m\u001b[0m\u001b[0m\n",
      "\u001b[0;31mTypeError\u001b[0m: 'list' object is not callable"
     ]
    }
   ],
   "source": [
    "import random\n",
    "\n",
    "class Bot:\n",
    "\n",
    "    def board(self, x, y):\n",
    "        self.me = \"X\"\n",
    "        if self.me == \"X\":\n",
    "            self.opponent = \"O\"\n",
    "        else:\n",
    "            self.opponent = \"X\"\n",
    "        first_row = [\"O\", \"_\", \"_\"]\n",
    "        second_row = [\"_\", \"O\", \"X\"]\n",
    "        third_row = [\"_\", \"X\", \"_\"]\n",
    "        self.board = self.create_board(first_row, second_row, third_row)\n",
    "        return self.board[x][y]\n",
    "    \n",
    "    def create_board(self, first_row, second_row, third_row):\n",
    "        return [first_row, second_row, third_row]\n",
    "    \n",
    "    def make_move(self):\n",
    "        counter = 0\n",
    "        while counter < 1:\n",
    "            x = random.randint(0,2)\n",
    "            y = random.randint(0,2)\n",
    "            z = self.board(x,y)\n",
    "            if z != \"X\" and z != \"O\":\n",
    "                print((\"{} {}\".format(x, y)))\n",
    "                counter = 1\n",
    "            else:\n",
    "                counter = 0\n",
    "            \n",
    "x = Bot()\n",
    "x.make_move()"
   ]
  },
  {
   "cell_type": "code",
   "execution_count": null,
   "metadata": {
    "collapsed": false
   },
   "outputs": [],
   "source": [
    "\n",
    "   "
   ]
  },
  {
   "cell_type": "code",
   "execution_count": 612,
   "metadata": {
    "collapsed": false
   },
   "outputs": [
    {
     "name": "stdout",
     "output_type": "stream",
     "text": [
      "<__main__.Bot object at 0x10bc9b320> 1\n"
     ]
    },
    {
     "ename": "TypeError",
     "evalue": "'method' object is not subscriptable",
     "output_type": "error",
     "traceback": [
      "\u001b[0;31m---------------------------------------------------------------------------\u001b[0m",
      "\u001b[0;31mTypeError\u001b[0m                                 Traceback (most recent call last)",
      "\u001b[0;32m<ipython-input-612-ce5de7c9ad3c>\u001b[0m in \u001b[0;36m<module>\u001b[0;34m()\u001b[0m\n\u001b[1;32m     26\u001b[0m \u001b[0mx\u001b[0m \u001b[0;34m=\u001b[0m \u001b[0mBot\u001b[0m\u001b[0;34m(\u001b[0m\u001b[0;34m)\u001b[0m\u001b[0;34m\u001b[0m\u001b[0m\n\u001b[1;32m     27\u001b[0m \u001b[0;34m\u001b[0m\u001b[0m\n\u001b[0;32m---> 28\u001b[0;31m \u001b[0mx\u001b[0m\u001b[0;34m.\u001b[0m\u001b[0mpotential_move\u001b[0m\u001b[0;34m(\u001b[0m\u001b[0mx\u001b[0m\u001b[0;34m,\u001b[0m \u001b[0my\u001b[0m\u001b[0;34m)\u001b[0m\u001b[0;34m\u001b[0m\u001b[0m\n\u001b[0m",
      "\u001b[0;32m<ipython-input-612-ce5de7c9ad3c>\u001b[0m in \u001b[0;36mpotential_move\u001b[0;34m(self, x, y)\u001b[0m\n\u001b[1;32m     22\u001b[0m         \u001b[0mself\u001b[0m\u001b[0;34m.\u001b[0m\u001b[0my\u001b[0m \u001b[0;34m=\u001b[0m \u001b[0mrandom\u001b[0m\u001b[0;34m.\u001b[0m\u001b[0mrandint\u001b[0m\u001b[0;34m(\u001b[0m\u001b[0;36m0\u001b[0m\u001b[0;34m,\u001b[0m\u001b[0;36m2\u001b[0m\u001b[0;34m)\u001b[0m\u001b[0;34m\u001b[0m\u001b[0m\n\u001b[1;32m     23\u001b[0m         \u001b[0mprint\u001b[0m\u001b[0;34m(\u001b[0m\u001b[0;34m\"{} {}\"\u001b[0m\u001b[0;34m.\u001b[0m\u001b[0mformat\u001b[0m\u001b[0;34m(\u001b[0m\u001b[0mx\u001b[0m\u001b[0;34m,\u001b[0m \u001b[0my\u001b[0m\u001b[0;34m)\u001b[0m\u001b[0;34m)\u001b[0m\u001b[0;34m\u001b[0m\u001b[0m\n\u001b[0;32m---> 24\u001b[0;31m         \u001b[0mprint\u001b[0m\u001b[0;34m(\u001b[0m\u001b[0mself\u001b[0m\u001b[0;34m.\u001b[0m\u001b[0mboard\u001b[0m\u001b[0;34m[\u001b[0m\u001b[0mx\u001b[0m\u001b[0;34m]\u001b[0m\u001b[0;34m[\u001b[0m\u001b[0my\u001b[0m\u001b[0;34m]\u001b[0m\u001b[0;34m)\u001b[0m\u001b[0;34m\u001b[0m\u001b[0m\n\u001b[0m\u001b[1;32m     25\u001b[0m \u001b[0;34m\u001b[0m\u001b[0m\n\u001b[1;32m     26\u001b[0m \u001b[0mx\u001b[0m \u001b[0;34m=\u001b[0m \u001b[0mBot\u001b[0m\u001b[0;34m(\u001b[0m\u001b[0;34m)\u001b[0m\u001b[0;34m\u001b[0m\u001b[0m\n",
      "\u001b[0;31mTypeError\u001b[0m: 'method' object is not subscriptable"
     ]
    }
   ],
   "source": [
    "import random\n",
    "\n",
    "class Bot:\n",
    "\n",
    "    def board(self):\n",
    "        self.me = \"X\"\n",
    "        if self.me == \"X\":\n",
    "            self.opponent = \"O\"\n",
    "        else:\n",
    "            self.opponent = \"X\"\n",
    "        first_row = [\"O\", \"_\", \"_\"]\n",
    "        second_row = [\"_\", \"O\", \"_\"]\n",
    "        third_row = [\"_\", \"X\", \"_\"]\n",
    "        self.board = self.create_board(first_row, second_row, third_row)\n",
    "        return self.board   \n",
    "    \n",
    "    def create_board(self, first_row, second_row, third_row):\n",
    "        return [first_row, second_row, third_row]\n",
    "    \n",
    "    def potential_move(self, x, y):\n",
    "        self.x = random.randint(0,2)\n",
    "        self.y = random.randint(0,2)\n",
    "        print(\"{} {}\".format(x, y))\n",
    "        print(self.board[x][y])\n",
    "        \n",
    "x = Bot()\n",
    "\n",
    "x.potential_move(x, y)"
   ]
  },
  {
   "cell_type": "code",
   "execution_count": null,
   "metadata": {
    "collapsed": true
   },
   "outputs": [],
   "source": [
    "    def make_move(self, x, y):\n",
    "        counter = 0\n",
    "        while counter < 1:\n",
    "            x = random.randint(0,2)\n",
    "            y = random.randint(0,2)\n",
    "            if self.board[x][y] == \"_\":\n",
    "                print((\"{} {}\".format(x, y)))\n",
    "                counter = 1\n",
    "            else:\n",
    "                counter = 0\n",
    "\n",
    "x = random.randint(0,2)\n",
    "y = random.randint(0,2)\n",
    "\n",
    "x = Bot()\n",
    "x.make_move(x,y)"
   ]
  },
  {
   "cell_type": "code",
   "execution_count": null,
   "metadata": {
    "collapsed": true
   },
   "outputs": [],
   "source": []
  },
  {
   "cell_type": "code",
   "execution_count": null,
   "metadata": {
    "collapsed": true
   },
   "outputs": [],
   "source": []
  },
  {
   "cell_type": "code",
   "execution_count": null,
   "metadata": {
    "collapsed": true
   },
   "outputs": [],
   "source": []
  },
  {
   "cell_type": "code",
   "execution_count": null,
   "metadata": {
    "collapsed": true
   },
   "outputs": [],
   "source": []
  },
  {
   "cell_type": "code",
   "execution_count": null,
   "metadata": {
    "collapsed": true
   },
   "outputs": [],
   "source": []
  },
  {
   "cell_type": "code",
   "execution_count": null,
   "metadata": {
    "collapsed": true
   },
   "outputs": [],
   "source": []
  },
  {
   "cell_type": "code",
   "execution_count": null,
   "metadata": {
    "collapsed": true
   },
   "outputs": [],
   "source": []
  },
  {
   "cell_type": "code",
   "execution_count": null,
   "metadata": {
    "collapsed": true
   },
   "outputs": [],
   "source": []
  }
 ],
 "metadata": {
  "kernelspec": {
   "display_name": "Python 3",
   "language": "python",
   "name": "python3"
  },
  "language_info": {
   "codemirror_mode": {
    "name": "ipython",
    "version": 3
   },
   "file_extension": ".py",
   "mimetype": "text/x-python",
   "name": "python",
   "nbconvert_exporter": "python",
   "pygments_lexer": "ipython3",
   "version": "3.5.0"
  }
 },
 "nbformat": 4,
 "nbformat_minor": 0
}
