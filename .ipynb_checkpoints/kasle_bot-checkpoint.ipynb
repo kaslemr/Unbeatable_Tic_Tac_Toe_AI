{
 "cells": [
  {
   "cell_type": "code",
   "execution_count": 2,
   "metadata": {
    "collapsed": true
   },
   "outputs": [],
   "source": [
    "# python runner.py bot_one.py bot_two.py\n",
    "# player = you can input\n"
   ]
  },
  {
   "cell_type": "code",
   "execution_count": 3,
   "metadata": {
    "collapsed": true
   },
   "outputs": [],
   "source": [
    "def get_inputs(self):\n",
    "    self.me = input()\n",
    "    if self.me == \"X\":\n",
    "        self.you = \"O\"\n",
    "    else:\n",
    "        self.you = \"X\"\n",
    "    row_one = input()\n",
    "    row_two = input()\n",
    "    row_three = input()\n",
    "    self.board = self.create_board(row_one, row_two, row_three)\n",
    "\n",
    "def create_board(self, row_one, row_two, row_three):\n",
    "    return [row_one, row_two, row_three]\n"
   ]
  },
  {
   "cell_type": "code",
   "execution_count": 5,
   "metadata": {
    "collapsed": false
   },
   "outputs": [
    {
     "ename": "SyntaxError",
     "evalue": "invalid syntax (<ipython-input-5-905a2e711a60>, line 21)",
     "output_type": "error",
     "traceback": [
      "\u001b[0;36m  File \u001b[0;32m\"<ipython-input-5-905a2e711a60>\"\u001b[0;36m, line \u001b[0;32m21\u001b[0m\n\u001b[0;31m    if self.you = (1,1)\u001b[0m\n\u001b[0m                ^\u001b[0m\n\u001b[0;31mSyntaxError\u001b[0m\u001b[0;31m:\u001b[0m invalid syntax\n"
     ]
    }
   ],
   "source": [
    "\n",
    "def get_inputs(self):\n",
    "    self.me = input()\n",
    "    if self.me == \"X\":\n",
    "        self.you = \"O\"\n",
    "    else:\n",
    "        self.you = \"X\"\n",
    "    row_one = input()\n",
    "    row_two = input()\n",
    "    row_three = input()\n",
    "    self.board = self.create_board(row_one, row_two, row_three)\n",
    "\n",
    "def create_board(self, row_one, row_two, row_three):\n",
    "    return [row_one, row_two, row_three]\n",
    "\n",
    "def brain(self):\n",
    "    if self.you = (1,1)\n",
    "        print(\"{} {}\".format(2, 2))"
   ]
  },
  {
   "cell_type": "code",
   "execution_count": 6,
   "metadata": {
    "collapsed": false
   },
   "outputs": [
    {
     "name": "stdout",
     "output_type": "stream",
     "text": [
      "d\n",
      "d\n",
      "f\n",
      "f\n",
      "1 1\n"
     ]
    }
   ],
   "source": [
    "team = input()\n",
    "first_row = input()\n",
    "second_row = input()\n",
    "third_row = input()\n",
    "\n",
    "print(\"{} {}\".format(1, 1))\n"
   ]
  },
  {
   "cell_type": "code",
   "execution_count": null,
   "metadata": {
    "collapsed": true
   },
   "outputs": [],
   "source": []
  }
 ],
 "metadata": {
  "kernelspec": {
   "display_name": "Python 3",
   "language": "python",
   "name": "python3"
  },
  "language_info": {
   "codemirror_mode": {
    "name": "ipython",
    "version": 3
   },
   "file_extension": ".py",
   "mimetype": "text/x-python",
   "name": "python",
   "nbconvert_exporter": "python",
   "pygments_lexer": "ipython3",
   "version": "3.5.0"
  }
 },
 "nbformat": 4,
 "nbformat_minor": 0
}
