{
 "cells": [
  {
   "cell_type": "code",
   "execution_count": 826,
   "metadata": {
    "collapsed": true
   },
   "outputs": [],
   "source": [
    "class Bot:\n",
    "\n",
    "  "
   ]
  },
  {
   "cell_type": "code",
   "execution_count": 59,
   "metadata": {
    "collapsed": false
   },
   "outputs": [
    {
     "data": {
      "text/plain": [
       "1"
      ]
     },
     "execution_count": 59,
     "metadata": {},
     "output_type": "execute_result"
    }
   ],
   "source": [
    "import random\n",
    "\n",
    "class Bot:\n",
    "\n",
    "    def board(self):\n",
    "        self.me = \"X\"\n",
    "        if self.me == \"X\":\n",
    "            self.opponent = \"O\"\n",
    "        else:\n",
    "            self.opponent = \"X\"\n",
    "        self.first_row = [\"_\", \"X\", \"O\"]\n",
    "        self.second_row = [\"X\", \"X\", \"_\"]\n",
    "        self.third_row = [\"O\", \"O\", \"O\"]\n",
    "        self.game_board = self.create_board(self.first_row, self.second_row, self.third_row)\n",
    "        self.first_column = self.create_column(0, 0, 0)\n",
    "        self.second_column = self.create_column(1, 1, 1)\n",
    "        self.third_column = self.create_column(2, 2, 2)\n",
    "        self.left_right_diagonal = self.create_column(0, 1, 2)\n",
    "        self.right_left_diagonal = self.create_column(2, 1, 0)\n",
    "        self.corners = self.first_row[0], self.first_row[2], self.third_row[0], self.third_row[2]\n",
    "        self.positions = [item for sublist in self.game_board for item in sublist]\n",
    "        self.positions_taken = self.positions.count(\"X\") + self.positions.count(\"O\")                                                                  \n",
    "        return self.game_board\n",
    "\n",
    "    def create_board(self, first_row, second_row, third_row):\n",
    "        return [self.first_row, self.second_row, self.third_row]\n",
    "\n",
    "    def create_column(self, x, y, z):\n",
    "        return [self.first_row[x], self.second_row[y], self.third_row[z]]\n",
    "\n",
    "    def make_original_move(self,x,y):\n",
    "        print(\"{} {}\".format(x, y))\n",
    "\n",
    "    def make_move(self):\n",
    "        counter = 0\n",
    "        while counter < 0.5:\n",
    "            if self.first_move() != False:\n",
    "                counter = 1\n",
    "            elif self.get_win() != False:\n",
    "                counter = 1\n",
    "            elif self.block_win() != False:\n",
    "                counter = 1\n",
    "            else:\n",
    "                if x.corners.count(\"_\") < 4:\n",
    "                    x = random.choice(0, 2)\n",
    "                    y = random.choice(0, 2)\n",
    "                else:\n",
    "                    x = random.randint(0,2) in self.corners\n",
    "                    y = random.randint(0,2) in self.corners \n",
    "                z = self.game_board[x][y]\n",
    "                if z != \"X\" and z != \"O\":\n",
    "                    print((\"{} {}\".format(x, y)))\n",
    "                    counter = 1\n",
    "                else:\n",
    "                    counter = 0\n",
    "\n",
    "    def first_move(self):\n",
    "        if self.me not in self.first_row and self.me not in self.second_row and self.me not in self.third_row:\n",
    "            if self.opponent in self.first_row or self.opponent in self.second_row or self.opponent in self.third_row:\n",
    "                if self.opponent in self.corners:\n",
    "                    print(1,1)\n",
    "                else:\n",
    "                    print(0,0)\n",
    "            else:\n",
    "                print(0,0)\n",
    "        else:\n",
    "            return False\n",
    "\n",
    "    def block_win(self):\n",
    "        if self.first_row.count(self.opponent) == 2 and self.first_row.count(\"_\") == 1:\n",
    "            y = self.first_row.index(\"_\")\n",
    "            print(0, y)\n",
    "        elif self.second_row.count(self.opponent) == 2 and self.second_row.count('_') == 1:\n",
    "            y = self.second_row.index(\"_\")\n",
    "            print(1, y)\n",
    "        elif self.third_row.count(self.opponent) == 2 and self.third_row.count(\"_\") == 1:\n",
    "            y = self.third_row.index(\"_\")\n",
    "            print(2, y)\n",
    "        elif self.first_column.count(self.opponent) == 2 and self.first_column.count(\"_\") == 1:\n",
    "            x = self.first_column.index(\"_\")\n",
    "            print(x, 0)\n",
    "        elif self.second_column.count(self.opponent) == 2 and self.second_column.count(\"_\") == 1:\n",
    "            x = self.second_column.index(\"_\")\n",
    "            print(x, 1)\n",
    "        elif self.third_column.count(self.opponent) == 2 and self.third_column.count(\"_\") == 1:\n",
    "            x = self.third_column.index(\"_\")\n",
    "            print(x, 2)\n",
    "        elif self.left_right_diagonal.count(self.opponent) == 2 and self.left_right_diagonal.count(\"_\") == 1:\n",
    "            x = self.left_right_diagonal.index(\"_\")\n",
    "            if x == 0:\n",
    "                y = 0\n",
    "            if x == 1:\n",
    "                y = 1\n",
    "            if x == 2:\n",
    "                y = 2\n",
    "            print(x, y)\n",
    "        elif self.right_left_diagonal.count(self.opponent) == 2 and self.right_left_diagonal.count(\"_\") == 1:\n",
    "            x = self.right_left_diagonal.index(\"_\")\n",
    "            if x == 0:\n",
    "                y = 2\n",
    "            if x == 1:\n",
    "                y = 1\n",
    "            if x == 2:\n",
    "                y = 0\n",
    "            print(x, y)\n",
    "        else:\n",
    "            return False\n",
    "\n",
    "    def get_win(self):\n",
    "        if self.first_row.count(self.me) == 2 and self.first_row.count(\"_\") == 1:\n",
    "            y = self.first_row.index(\"_\")\n",
    "            print(0, y)\n",
    "        elif self.second_row.count(self.me) == 2 and self.second_row.count(\"_\") == 1:\n",
    "            y = self.second_row.index(\"_\")\n",
    "            print(1, y)\n",
    "        elif self.third_row.count(self.me) == 2 and self.third_row.count(\"_\") == 1:\n",
    "            y = self.third_row.index(\"_\")\n",
    "            print(2, y)\n",
    "        elif self.first_column.count(self.me) == 2 and self.first_column.count(\"_\") == 1:\n",
    "            x = self.first_column.index(\"_\")\n",
    "            print(x, 0)\n",
    "        elif self.second_column.count(self.me) == 2 and self.second_column.count(\"_\") == 1:\n",
    "            x = self.second_column.index(\"_\")\n",
    "            print(x, 1)\n",
    "        elif self.third_column.count(self.me) == 2 and self.third_column.count(\"_\") == 1:\n",
    "            x = self.third_column.index(\"_\")\n",
    "            print(x, 2)\n",
    "        elif self.left_right_diagonal.count(self.me) == 2 and self.left_right_diagonal.count(\"_\") == 1:\n",
    "            x = self.left_right_diagonal.index(\"_\")\n",
    "            if x == 0:\n",
    "                y = 0\n",
    "            if x == 1:\n",
    "                y = 1\n",
    "            if x == 2:\n",
    "                y = 2\n",
    "            print(x, y)\n",
    "        elif self.right_left_diagonal.count(self.opponent) == 2 and self.right_left_diagonal.count(\"_\") == 1:\n",
    "            x = self.right_left_diagonal.index(\"_\")\n",
    "            if x == 0:\n",
    "                y = 2\n",
    "            if x == 1:\n",
    "                y = 1\n",
    "            if x == 2:\n",
    "                y = 0\n",
    "            print(x, y)\n",
    "        else:\n",
    "            return False\n",
    "\n",
    "x = Bot()\n",
    "x.board()\n",
    "x.corners.count(\"_\")"
   ]
  },
  {
   "cell_type": "code",
   "execution_count": 75,
   "metadata": {
    "collapsed": false
   },
   "outputs": [
    {
     "data": {
      "text/plain": [
       "0"
      ]
     },
     "execution_count": 75,
     "metadata": {},
     "output_type": "execute_result"
    }
   ],
   "source": [
    "x = random.choice([0, 2])\n",
    "x"
   ]
  },
  {
   "cell_type": "code",
   "execution_count": null,
   "metadata": {
    "collapsed": true
   },
   "outputs": [],
   "source": [
    "# corner function\n",
    "    if self.corners.count(\"_\") < 4:\n",
    "        x = random.choice([0, 2])\n",
    "        y = random.choice([0, 2])"
   ]
  }
 ],
 "metadata": {
  "kernelspec": {
   "display_name": "Python 3",
   "language": "python",
   "name": "python3"
  },
  "language_info": {
   "codemirror_mode": {
    "name": "ipython",
    "version": 3
   },
   "file_extension": ".py",
   "mimetype": "text/x-python",
   "name": "python",
   "nbconvert_exporter": "python",
   "pygments_lexer": "ipython3",
   "version": "3.5.0"
  }
 },
 "nbformat": 4,
 "nbformat_minor": 0
}
